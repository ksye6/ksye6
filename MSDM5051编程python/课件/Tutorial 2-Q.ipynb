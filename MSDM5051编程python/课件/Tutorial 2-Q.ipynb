{
 "cells": [
  {
   "cell_type": "markdown",
   "id": "8bc95880-1637-4abe-a7cf-7d3d15ea7f5e",
   "metadata": {},
   "source": [
    "# MSDM5051 Tutorial 2 - More Practice on Linked List & Recursion"
   ]
  },
  {
   "cell_type": "markdown",
   "id": "8787af9b-412f-4ed2-87d7-ee0f94c4b903",
   "metadata": {},
   "source": [
    "---\n",
    "## 1. Loop detection in linked list\n",
    "\n",
    "The fastest method for detecting whether a loop is formed in a linked list is by the [Floyd’s Cycle-Finding Algorithm](https://www.geeksforgeeks.org/how-does-floyds-slow-and-fast-pointers-approach-work/). The idea is clever (can be proven by just a few lines of maths) and easy to implement - there are two \"node checkers\" (i.e. pointer in C++) tranverse the linked list simultaneously but at different speed:\n",
    "\n",
    "- The slower checker - traverses 1 node per iteration\n",
    "- The faster checker - traverses 2 nodes per iteration\n",
    "\n",
    "The faster checker will loop back and catch up the slower node from behind if a loop exists in the linked list. Otherwise it can reach the end of the list and thus show this list has no loop. \n",
    "\n",
    "Try to code it yourself. Don't search for the solution. "
   ]
  },
  {
   "cell_type": "code",
   "execution_count": null,
   "id": "0feb3f83-17c0-4c7e-8a53-404637baf991",
   "metadata": {},
   "outputs": [],
   "source": [
    "# The definition of a linked list and its node are given to you\n",
    "\n",
    "class Node:\n",
    "    def __init__(self, data, next_node=None):\n",
    "        self.data = data\n",
    "        self.next = next_node  \n",
    "\n",
    "class SinglyLinkedList:\n",
    "    def __init__(self, head=None):\n",
    "        self.head = head\n",
    "        \n",
    "    ###########################################################################\n",
    "    # Finish the detect_loop() function with Floyd’s Cycle-Finding Algorithm\n",
    "    # return True if loop exist. False otherwise.\n",
    "    \n",
    "    def detect_loop(self):\n",
    "        \n",
    "        \n",
    "    ###########################################################################"
   ]
  },
  {
   "cell_type": "code",
   "execution_count": null,
   "id": "e27be73d-41fc-4d3b-99c7-799fa5f110b1",
   "metadata": {},
   "outputs": [],
   "source": [
    "# For your testing\n",
    "\n",
    "my_SLL = SinglyLinkedList()\n",
    "n1 = Node(True)\n",
    "n2 = Node(\"I love Python\")\n",
    "n3 = Node(5051)\n",
    "n4 = Node(\"but I don't want to quiz\")\n",
    "\n",
    "# Linking by direct assigning the nodes' property\n",
    "my_SLL.head = n1\n",
    "n1.next = n2\n",
    "n2.next = n3\n",
    "n3.next = n4\n",
    "n4.next = n2 # this link forms a loop\n",
    "\n",
    "# Detect loop\n",
    "my_SLL.detect_loop()"
   ]
  },
  {
   "cell_type": "markdown",
   "id": "42d9e78e-fd7b-45b8-b013-90a527e5e894",
   "metadata": {},
   "source": [
    "---\n",
    "## 2. A Better Power Function\n",
    "\n",
    "The power function $f(x,n) = x^n$ with $n\\geq 0$ can be easily implemented as a recursive function using the definition:\n",
    "\n",
    "$$\n",
    "x^n = f(x,n) =\n",
    "\\begin{cases}\n",
    "1 & \\text{if }x=0 \\\\\n",
    "x\\cdot f(x,n-1) & \\text{if }x>0\n",
    "\\end{cases}\n",
    "$$\n",
    "\n",
    "Try to translate it into a recursive function."
   ]
  },
  {
   "cell_type": "code",
   "execution_count": null,
   "id": "047b7edf-c83f-4b13-ad9c-735d871c883d",
   "metadata": {},
   "outputs": [],
   "source": [
    "### Try it yourself\n"
   ]
  },
  {
   "cell_type": "markdown",
   "id": "e69fa2a3-d470-426f-9d1b-6cfc4c564411",
   "metadata": {},
   "source": [
    "However it can be faster by cutting away more unnecessary multiplications. For example in calculating $x^8$, by observing that via $x^8 = (x^4)^2 \\Rightarrow x^4 = (x^2)^2 \\Rightarrow x^2 = x\\cdot x$, only 3 multiplications are needed instead of 8 using the above definition.\n",
    "\n",
    "Try to write code this implentation as a recursive function. Be careful with odd number power."
   ]
  },
  {
   "cell_type": "code",
   "execution_count": null,
   "id": "a44dd2ec-202b-4a51-a448-da7da1a098cb",
   "metadata": {},
   "outputs": [],
   "source": [
    "### Try it yourself\n",
    "\n"
   ]
  }
 ],
 "metadata": {
  "kernelspec": {
   "display_name": "Python 3 (ipykernel)",
   "language": "python",
   "name": "python3"
  },
  "language_info": {
   "codemirror_mode": {
    "name": "ipython",
    "version": 3
   },
   "file_extension": ".py",
   "mimetype": "text/x-python",
   "name": "python",
   "nbconvert_exporter": "python",
   "pygments_lexer": "ipython3",
   "version": "3.8.8"
  }
 },
 "nbformat": 4,
 "nbformat_minor": 5
}
