{
 "cells": [
  {
   "cell_type": "markdown",
   "id": "c716eaeb",
   "metadata": {},
   "source": [
    "# Selenium Demo\n",
    "\n",
    "A demo to the minimum steps for scrapping a site that requires interaction with javascript. Did not implement any advanced stuffs like random timeout.\n",
    "\n",
    "#### 0. Launch the headless browser (I use Google Chrome here)."
   ]
  },
  {
   "cell_type": "code",
   "execution_count": 1,
   "id": "dd299029",
   "metadata": {
    "tags": []
   },
   "outputs": [],
   "source": [
    "from selenium import webdriver\n",
    "from selenium.webdriver.chrome.service import Service\n",
    "from selenium.webdriver.chrome.options import Options\n",
    "from selenium.webdriver.common.by import By\n",
    "\n",
    "ser = Service(r'D:\\mings\\Documents\\IT_dog\\python\\#webdriver\\chromedriver.exe')\n",
    "options = Options()\n",
    "options.add_argument(\"headless\")              # headless is the option to whether to have a browser popping out\n",
    "driver = webdriver.Chrome(service=ser, options=options)\n",
    "driver.get(\"https://search.kmb.hk/kmbwebsite/\")"
   ]
  },
  {
   "cell_type": "markdown",
   "id": "b018c37f",
   "metadata": {},
   "source": [
    "#### 1. Click on route serach button"
   ]
  },
  {
   "cell_type": "code",
   "execution_count": 2,
   "id": "8fbbe9a0",
   "metadata": {
    "tags": []
   },
   "outputs": [],
   "source": [
    "route_button = driver.find_element(By.ID, 'imgRouteSearchIcon')\n",
    "route_button.click()"
   ]
  },
  {
   "cell_type": "markdown",
   "id": "daccbe81",
   "metadata": {},
   "source": [
    "#### 2. Type the bus line number into the input field"
   ]
  },
  {
   "cell_type": "code",
   "execution_count": 3,
   "id": "ab32e742",
   "metadata": {
    "tags": []
   },
   "outputs": [],
   "source": [
    "line_no = driver.find_element(By.ID, 'txtRoute')\n",
    "line_no.clear()\n",
    "line_no.send_keys('91m')"
   ]
  },
  {
   "cell_type": "markdown",
   "id": "b12ee4a4",
   "metadata": {},
   "source": [
    "#### 3. Click the search button"
   ]
  },
  {
   "cell_type": "code",
   "execution_count": 4,
   "id": "5fe087f6",
   "metadata": {
    "tags": []
   },
   "outputs": [],
   "source": [
    "search_button = driver.find_element(By.ID, 'routeSearchButton')\n",
    "search_button.click()"
   ]
  },
  {
   "cell_type": "markdown",
   "id": "069ac22f",
   "metadata": {},
   "source": [
    "#### 4. For loop \n",
    "\n",
    "- Click on each station's name.\n",
    "- Extract the information in the panel appearing on the map.\n",
    "\n",
    "Note that selenium can only select element that are visible in the viewport, so you need to excecute javascript to scroll the bottom stations into view."
   ]
  },
  {
   "cell_type": "code",
   "execution_count": 5,
   "id": "3b94dbdd",
   "metadata": {
    "tags": []
   },
   "outputs": [],
   "source": [
    "# it takes some time before the website returning the search result\n",
    "# so we need to tell the driver to wait a bit until the table elements show up\n",
    "driver.implicitly_wait(5)\n",
    "\n",
    "stop_list = []\n",
    "\n",
    "# first stop and last stop have a different xpath selector\n",
    "first_stop = driver.find_element(By.XPATH, '//td[contains(@class, \"routeStopStartBulletTextTD\")]')\n",
    "last_stop = driver.find_element(By.XPATH, '//td[contains(@class, \"routeStopEndBulletTextTD\")]')\n",
    "\n",
    "stops = driver.find_elements(By.XPATH, '//td[contains(@class, \"imgHover\") and contains(@class, \"stopTd\")]')\n",
    "stops = [first_stop]+stops+[last_stop]\n",
    "\n",
    "for stop in stops:\n",
    "    \n",
    "    # this is the javascript to scroll into view\n",
    "    driver.execute_script(\"arguments[0].scrollIntoView();\", stop) \n",
    "    stop.click()\n",
    "    \n",
    "    time_table = driver.find_elements(By.XPATH, '//div[@class=\"contentPane\"]/table/tbody/tr[5]/td/table/tbody/tr[position()>1]')\n",
    "    stop_list.append([stop.text]+[time.text for time in time_table])"
   ]
  },
  {
   "cell_type": "code",
   "execution_count": 6,
   "id": "236fadb9",
   "metadata": {
    "tags": []
   },
   "outputs": [
    {
     "name": "stdout",
     "output_type": "stream",
     "text": [
      "[['寶林總站', ''], ['欣景路', ''], ['景林邨', '2 分鐘 預定班次', '22 分鐘 預定班次', '37 分鐘 預定班次'], ['厚德邨', '5 分鐘 預定班次', '25 分鐘 預定班次', '40 分鐘 預定班次'], ['重華路', '6 分鐘 預定班次', '26 分鐘 預定班次', '41 分鐘 預定班次'], ['坑口站', '7 分鐘 預定班次', '27 分鐘 預定班次', '42 分鐘 預定班次'], ['富寧花園', '9 分鐘 預定班次', '29 分鐘 預定班次', '44 分鐘 預定班次'], ['將軍澳醫院', '12 分鐘 預定班次', '32 分鐘 預定班次', '47 分鐘 預定班次'], ['聖雲仙天主堂', '14 分鐘 預定班次', '34 分鐘 預定班次', '49 分鐘 預定班次'], ['水邊村', '14 分鐘 預定班次', '34 分鐘 預定班次', '49 分鐘 預定班次'], ['影業路', '15 分鐘 預定班次', '35 分鐘 預定班次', '50 分鐘 預定班次'], ['銀影路', '16 分鐘 預定班次', '36 分鐘 預定班次', '51 分鐘 預定班次'], ['香港科技大學(南)', '18 分鐘 預定班次', '38 分鐘 預定班次', '53 分鐘 預定班次'], ['大埔仔', '即將到達', '20 分鐘 預定班次', '40 分鐘 預定班次'], ['大埔仔坳', '4 分鐘', '24 分鐘 預定班次', '44 分鐘 預定班次'], ['打鼓嶺新村', '5 分鐘', '25 分鐘 預定班次', '45 分鐘 預定班次'], ['壁屋', '7 分鐘', '27 分鐘 預定班次', '47 分鐘 預定班次'], ['白石窩', '8 分鐘', '28 分鐘 預定班次', '48 分鐘 預定班次'], ['井欄樹', '10 分鐘', '30 分鐘 預定班次', '50 分鐘 預定班次'], ['龍窩村', '11 分鐘', '31 分鐘 預定班次', '51 分鐘 預定班次'], ['安達臣道', '12 分鐘', '32 分鐘 預定班次', '52 分鐘 預定班次'], ['德望學校', '12 分鐘', '32 分鐘 預定班次', '52 分鐘 預定班次'], ['彩雲邨', '15 分鐘', '35 分鐘 預定班次', '55 分鐘 預定班次'], ['牛池灣轉車站 - 彩虹站 (K2月台)', '即將到達', '17 分鐘', '37 分鐘 預定班次'], ['牛池灣轉車站 - 紅萼樓 (H3月台)', '3 分鐘', '19 分鐘', '39 分鐘 預定班次'], ['彩虹轉車站 - 錦雲樓 (P2月台)', '5 分鐘', '22 分鐘', '42 分鐘 預定班次'], ['新蒲崗大有街', '6 分鐘', '23 分鐘', '43 分鐘 預定班次'], ['鳳德商場', '8 分鐘', '25 分鐘', '45 分鐘 預定班次'], ['鑽石山站巴士總站', '13 分鐘', '29 分鐘', '49 分鐘 預定班次']]\n"
     ]
    }
   ],
   "source": [
    "print(stop_list)"
   ]
  },
  {
   "cell_type": "markdown",
   "id": "b25726d0",
   "metadata": {},
   "source": [
    "#### 5. Use pandas to organize\n",
    "\n",
    "Then you can do the analysis by pandas or after exporting to excel as you like."
   ]
  },
  {
   "cell_type": "code",
   "execution_count": 7,
   "id": "ae69e865",
   "metadata": {},
   "outputs": [],
   "source": [
    "import pandas as pd"
   ]
  },
  {
   "cell_type": "code",
   "execution_count": 8,
   "id": "9db1e808",
   "metadata": {
    "tags": []
   },
   "outputs": [
    {
     "data": {
      "text/html": [
       "<div>\n",
       "<style scoped>\n",
       "    .dataframe tbody tr th:only-of-type {\n",
       "        vertical-align: middle;\n",
       "    }\n",
       "\n",
       "    .dataframe tbody tr th {\n",
       "        vertical-align: top;\n",
       "    }\n",
       "\n",
       "    .dataframe thead th {\n",
       "        text-align: right;\n",
       "    }\n",
       "</style>\n",
       "<table border=\"1\" class=\"dataframe\">\n",
       "  <thead>\n",
       "    <tr style=\"text-align: right;\">\n",
       "      <th></th>\n",
       "      <th>name</th>\n",
       "      <th>bus1</th>\n",
       "      <th>bus2</th>\n",
       "      <th>bus3</th>\n",
       "    </tr>\n",
       "  </thead>\n",
       "  <tbody>\n",
       "    <tr>\n",
       "      <th>0</th>\n",
       "      <td>寶林總站</td>\n",
       "      <td></td>\n",
       "      <td>None</td>\n",
       "      <td>None</td>\n",
       "    </tr>\n",
       "    <tr>\n",
       "      <th>1</th>\n",
       "      <td>欣景路</td>\n",
       "      <td></td>\n",
       "      <td>None</td>\n",
       "      <td>None</td>\n",
       "    </tr>\n",
       "    <tr>\n",
       "      <th>2</th>\n",
       "      <td>景林邨</td>\n",
       "      <td>2 分鐘 預定班次</td>\n",
       "      <td>22 分鐘 預定班次</td>\n",
       "      <td>37 分鐘 預定班次</td>\n",
       "    </tr>\n",
       "    <tr>\n",
       "      <th>3</th>\n",
       "      <td>厚德邨</td>\n",
       "      <td>5 分鐘 預定班次</td>\n",
       "      <td>25 分鐘 預定班次</td>\n",
       "      <td>40 分鐘 預定班次</td>\n",
       "    </tr>\n",
       "    <tr>\n",
       "      <th>4</th>\n",
       "      <td>重華路</td>\n",
       "      <td>6 分鐘 預定班次</td>\n",
       "      <td>26 分鐘 預定班次</td>\n",
       "      <td>41 分鐘 預定班次</td>\n",
       "    </tr>\n",
       "    <tr>\n",
       "      <th>5</th>\n",
       "      <td>坑口站</td>\n",
       "      <td>7 分鐘 預定班次</td>\n",
       "      <td>27 分鐘 預定班次</td>\n",
       "      <td>42 分鐘 預定班次</td>\n",
       "    </tr>\n",
       "    <tr>\n",
       "      <th>6</th>\n",
       "      <td>富寧花園</td>\n",
       "      <td>9 分鐘 預定班次</td>\n",
       "      <td>29 分鐘 預定班次</td>\n",
       "      <td>44 分鐘 預定班次</td>\n",
       "    </tr>\n",
       "    <tr>\n",
       "      <th>7</th>\n",
       "      <td>將軍澳醫院</td>\n",
       "      <td>12 分鐘 預定班次</td>\n",
       "      <td>32 分鐘 預定班次</td>\n",
       "      <td>47 分鐘 預定班次</td>\n",
       "    </tr>\n",
       "    <tr>\n",
       "      <th>8</th>\n",
       "      <td>聖雲仙天主堂</td>\n",
       "      <td>14 分鐘 預定班次</td>\n",
       "      <td>34 分鐘 預定班次</td>\n",
       "      <td>49 分鐘 預定班次</td>\n",
       "    </tr>\n",
       "    <tr>\n",
       "      <th>9</th>\n",
       "      <td>水邊村</td>\n",
       "      <td>14 分鐘 預定班次</td>\n",
       "      <td>34 分鐘 預定班次</td>\n",
       "      <td>49 分鐘 預定班次</td>\n",
       "    </tr>\n",
       "    <tr>\n",
       "      <th>10</th>\n",
       "      <td>影業路</td>\n",
       "      <td>15 分鐘 預定班次</td>\n",
       "      <td>35 分鐘 預定班次</td>\n",
       "      <td>50 分鐘 預定班次</td>\n",
       "    </tr>\n",
       "    <tr>\n",
       "      <th>11</th>\n",
       "      <td>銀影路</td>\n",
       "      <td>16 分鐘 預定班次</td>\n",
       "      <td>36 分鐘 預定班次</td>\n",
       "      <td>51 分鐘 預定班次</td>\n",
       "    </tr>\n",
       "    <tr>\n",
       "      <th>12</th>\n",
       "      <td>香港科技大學(南)</td>\n",
       "      <td>18 分鐘 預定班次</td>\n",
       "      <td>38 分鐘 預定班次</td>\n",
       "      <td>53 分鐘 預定班次</td>\n",
       "    </tr>\n",
       "    <tr>\n",
       "      <th>13</th>\n",
       "      <td>大埔仔</td>\n",
       "      <td>即將到達</td>\n",
       "      <td>20 分鐘 預定班次</td>\n",
       "      <td>40 分鐘 預定班次</td>\n",
       "    </tr>\n",
       "    <tr>\n",
       "      <th>14</th>\n",
       "      <td>大埔仔坳</td>\n",
       "      <td>4 分鐘</td>\n",
       "      <td>24 分鐘 預定班次</td>\n",
       "      <td>44 分鐘 預定班次</td>\n",
       "    </tr>\n",
       "    <tr>\n",
       "      <th>15</th>\n",
       "      <td>打鼓嶺新村</td>\n",
       "      <td>5 分鐘</td>\n",
       "      <td>25 分鐘 預定班次</td>\n",
       "      <td>45 分鐘 預定班次</td>\n",
       "    </tr>\n",
       "    <tr>\n",
       "      <th>16</th>\n",
       "      <td>壁屋</td>\n",
       "      <td>7 分鐘</td>\n",
       "      <td>27 分鐘 預定班次</td>\n",
       "      <td>47 分鐘 預定班次</td>\n",
       "    </tr>\n",
       "    <tr>\n",
       "      <th>17</th>\n",
       "      <td>白石窩</td>\n",
       "      <td>8 分鐘</td>\n",
       "      <td>28 分鐘 預定班次</td>\n",
       "      <td>48 分鐘 預定班次</td>\n",
       "    </tr>\n",
       "    <tr>\n",
       "      <th>18</th>\n",
       "      <td>井欄樹</td>\n",
       "      <td>10 分鐘</td>\n",
       "      <td>30 分鐘 預定班次</td>\n",
       "      <td>50 分鐘 預定班次</td>\n",
       "    </tr>\n",
       "    <tr>\n",
       "      <th>19</th>\n",
       "      <td>龍窩村</td>\n",
       "      <td>11 分鐘</td>\n",
       "      <td>31 分鐘 預定班次</td>\n",
       "      <td>51 分鐘 預定班次</td>\n",
       "    </tr>\n",
       "    <tr>\n",
       "      <th>20</th>\n",
       "      <td>安達臣道</td>\n",
       "      <td>12 分鐘</td>\n",
       "      <td>32 分鐘 預定班次</td>\n",
       "      <td>52 分鐘 預定班次</td>\n",
       "    </tr>\n",
       "    <tr>\n",
       "      <th>21</th>\n",
       "      <td>德望學校</td>\n",
       "      <td>12 分鐘</td>\n",
       "      <td>32 分鐘 預定班次</td>\n",
       "      <td>52 分鐘 預定班次</td>\n",
       "    </tr>\n",
       "    <tr>\n",
       "      <th>22</th>\n",
       "      <td>彩雲邨</td>\n",
       "      <td>15 分鐘</td>\n",
       "      <td>35 分鐘 預定班次</td>\n",
       "      <td>55 分鐘 預定班次</td>\n",
       "    </tr>\n",
       "    <tr>\n",
       "      <th>23</th>\n",
       "      <td>牛池灣轉車站 - 彩虹站 (K2月台)</td>\n",
       "      <td>即將到達</td>\n",
       "      <td>17 分鐘</td>\n",
       "      <td>37 分鐘 預定班次</td>\n",
       "    </tr>\n",
       "    <tr>\n",
       "      <th>24</th>\n",
       "      <td>牛池灣轉車站 - 紅萼樓 (H3月台)</td>\n",
       "      <td>3 分鐘</td>\n",
       "      <td>19 分鐘</td>\n",
       "      <td>39 分鐘 預定班次</td>\n",
       "    </tr>\n",
       "    <tr>\n",
       "      <th>25</th>\n",
       "      <td>彩虹轉車站 - 錦雲樓 (P2月台)</td>\n",
       "      <td>5 分鐘</td>\n",
       "      <td>22 分鐘</td>\n",
       "      <td>42 分鐘 預定班次</td>\n",
       "    </tr>\n",
       "    <tr>\n",
       "      <th>26</th>\n",
       "      <td>新蒲崗大有街</td>\n",
       "      <td>6 分鐘</td>\n",
       "      <td>23 分鐘</td>\n",
       "      <td>43 分鐘 預定班次</td>\n",
       "    </tr>\n",
       "    <tr>\n",
       "      <th>27</th>\n",
       "      <td>鳳德商場</td>\n",
       "      <td>8 分鐘</td>\n",
       "      <td>25 分鐘</td>\n",
       "      <td>45 分鐘 預定班次</td>\n",
       "    </tr>\n",
       "    <tr>\n",
       "      <th>28</th>\n",
       "      <td>鑽石山站巴士總站</td>\n",
       "      <td>13 分鐘</td>\n",
       "      <td>29 分鐘</td>\n",
       "      <td>49 分鐘 預定班次</td>\n",
       "    </tr>\n",
       "  </tbody>\n",
       "</table>\n",
       "</div>"
      ],
      "text/plain": [
       "                   name        bus1        bus2        bus3\n",
       "0                  寶林總站                    None        None\n",
       "1                   欣景路                    None        None\n",
       "2                   景林邨   2 分鐘 預定班次  22 分鐘 預定班次  37 分鐘 預定班次\n",
       "3                   厚德邨   5 分鐘 預定班次  25 分鐘 預定班次  40 分鐘 預定班次\n",
       "4                   重華路   6 分鐘 預定班次  26 分鐘 預定班次  41 分鐘 預定班次\n",
       "5                   坑口站   7 分鐘 預定班次  27 分鐘 預定班次  42 分鐘 預定班次\n",
       "6                  富寧花園   9 分鐘 預定班次  29 分鐘 預定班次  44 分鐘 預定班次\n",
       "7                 將軍澳醫院  12 分鐘 預定班次  32 分鐘 預定班次  47 分鐘 預定班次\n",
       "8                聖雲仙天主堂  14 分鐘 預定班次  34 分鐘 預定班次  49 分鐘 預定班次\n",
       "9                   水邊村  14 分鐘 預定班次  34 分鐘 預定班次  49 分鐘 預定班次\n",
       "10                  影業路  15 分鐘 預定班次  35 分鐘 預定班次  50 分鐘 預定班次\n",
       "11                  銀影路  16 分鐘 預定班次  36 分鐘 預定班次  51 分鐘 預定班次\n",
       "12            香港科技大學(南)  18 分鐘 預定班次  38 分鐘 預定班次  53 分鐘 預定班次\n",
       "13                  大埔仔        即將到達  20 分鐘 預定班次  40 分鐘 預定班次\n",
       "14                 大埔仔坳        4 分鐘  24 分鐘 預定班次  44 分鐘 預定班次\n",
       "15                打鼓嶺新村        5 分鐘  25 分鐘 預定班次  45 分鐘 預定班次\n",
       "16                   壁屋        7 分鐘  27 分鐘 預定班次  47 分鐘 預定班次\n",
       "17                  白石窩        8 分鐘  28 分鐘 預定班次  48 分鐘 預定班次\n",
       "18                  井欄樹       10 分鐘  30 分鐘 預定班次  50 分鐘 預定班次\n",
       "19                  龍窩村       11 分鐘  31 分鐘 預定班次  51 分鐘 預定班次\n",
       "20                 安達臣道       12 分鐘  32 分鐘 預定班次  52 分鐘 預定班次\n",
       "21                 德望學校       12 分鐘  32 分鐘 預定班次  52 分鐘 預定班次\n",
       "22                  彩雲邨       15 分鐘  35 分鐘 預定班次  55 分鐘 預定班次\n",
       "23  牛池灣轉車站 - 彩虹站 (K2月台)        即將到達       17 分鐘  37 分鐘 預定班次\n",
       "24  牛池灣轉車站 - 紅萼樓 (H3月台)        3 分鐘       19 分鐘  39 分鐘 預定班次\n",
       "25   彩虹轉車站 - 錦雲樓 (P2月台)        5 分鐘       22 分鐘  42 分鐘 預定班次\n",
       "26               新蒲崗大有街        6 分鐘       23 分鐘  43 分鐘 預定班次\n",
       "27                 鳳德商場        8 分鐘       25 分鐘  45 分鐘 預定班次\n",
       "28             鑽石山站巴士總站       13 分鐘       29 分鐘  49 分鐘 預定班次"
      ]
     },
     "execution_count": 8,
     "metadata": {},
     "output_type": "execute_result"
    }
   ],
   "source": [
    "df = pd.DataFrame(stop_list, columns=['name', 'bus1', 'bus2', 'bus3'])\n",
    "\n",
    "df"
   ]
  },
  {
   "cell_type": "markdown",
   "id": "d6a6cddd-be26-47a3-a961-93c9178fa9bd",
   "metadata": {},
   "source": [
    "#### 6. Kill the browser\n",
    "\n",
    "There is no reason to keep the browser running each time we finish running a script. So remember to kill it so save resources."
   ]
  },
  {
   "cell_type": "code",
   "execution_count": 9,
   "id": "834b5146-763f-44d1-903e-0d0867f469e4",
   "metadata": {
    "tags": []
   },
   "outputs": [],
   "source": [
    "driver.quit()"
   ]
  }
 ],
 "metadata": {
  "kernelspec": {
   "display_name": "Python 3 (ipykernel)",
   "language": "python",
   "name": "python3"
  },
  "language_info": {
   "codemirror_mode": {
    "name": "ipython",
    "version": 3
   },
   "file_extension": ".py",
   "mimetype": "text/x-python",
   "name": "python",
   "nbconvert_exporter": "python",
   "pygments_lexer": "ipython3",
   "version": "3.11.5"
  }
 },
 "nbformat": 4,
 "nbformat_minor": 5
}
