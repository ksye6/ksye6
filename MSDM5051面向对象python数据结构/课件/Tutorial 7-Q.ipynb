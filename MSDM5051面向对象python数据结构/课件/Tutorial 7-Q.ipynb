{
 "cells": [
  {
   "cell_type": "markdown",
   "id": "2f400cdc-293a-47a6-9d45-0d0118db8551",
   "metadata": {
    "jp-MarkdownHeadingCollapsed": true,
    "tags": []
   },
   "source": [
    "# MSDM5051 Tutorial 7 - Dynamic Programming\n",
    "\n",
    "## Content\n",
    "\n",
    "1. Summary\n",
    "2. Review & Practice\n"
   ]
  },
  {
   "cell_type": "markdown",
   "id": "ba001542-611d-4446-846b-6a755d1819f3",
   "metadata": {
    "tags": []
   },
   "source": [
    "---\n",
    "# 1. Summary\n",
    "\n",
    "Dynamic programming is just the fancy name of **\"divide-and-conquer with a table\"**. Instead of solving subproblems recursively, we can solve them sequentially and store their solutions in a table , so that whenever the solution to a subproblem is needed, it is already available in the table.\n",
    "\n",
    "- **Benefit** - You can use dynamic programming whenever a divide-and-conquer method yield an exponential number of subproblems, but only because a small number of subproblems repeated exponentially. It just makes more sense to compute each solution once and store it away in a table for later use, than recomputing it recursively everytime it is needed. \n",
    "\n",
    "\n",
    "- **Tradeoff** - Storing the solution of each subproblem takes up computer memory. But it is still a great deal because we have transformed an exponential time problem into a problem that only costs polynomial time and space. Moreover memory is not really a big concern with nowadays' computers.\n"
   ]
  },
  {
   "cell_type": "markdown",
   "id": "7eb8daaa-f806-4120-affd-f67ba4b3ab09",
   "metadata": {
    "tags": []
   },
   "source": [
    "In the codes in the lecture notes, there are two ways of adding dynamic programming to a recursive function:\n",
    "\n",
    "- **Create the table by yourself** - Professor has been using a dictionary called `memo` to record the results.\n",
    "\n",
    "- **Using LRU cache** - LRU means **Least Recently Used**. The LRU cache is basically a *fix-sized queue* structure in the computer memory which stored the most recently called item.  \n",
    "    - The results of the function is stored one by one to the queue (i.e. first element = oldest, last element = newest).\n",
    "    - If one result is retrieved, it will be popped out and re-appended at the end of the queue.\n",
    "    - When the queue is full, the first result (oldest = least recently used) will be deleted so new results can be appended.\n",
    "    \n",
    "The Python package `functools` provides the [implementation](https://docs.python.org/3/library/functools.html#functools.lru_cache) of LRU cache as a function decorator. For example:\n"
   ]
  },
  {
   "cell_type": "code",
   "execution_count": null,
   "id": "a3a5d31b-d717-4184-bc86-3d9472fdedde",
   "metadata": {},
   "outputs": [],
   "source": [
    "from functools import lru_cache\n",
    "\n",
    "@lru_cache(max_size=None)      # you can limit the size of the queue if you provide a number. Default is 128.\n",
    "def my_recursive_func(input1, input2, input3):\n",
    "    \n",
    "    # ...... whatever this function does\n",
    "    \n",
    "    something_returning = my_recursive_func(inputA, inputB, inputC)     # Before running the actual function, it will first search whether\n",
    "                                                                        # the result from the input combination (inputA, inputB, inputC)\n",
    "                                                                        # already exist in the LRU cache\n",
    "    \n",
    "    # ...... whatever this function does\n",
    "    \n",
    "    return something_to_return"
   ]
  },
  {
   "cell_type": "markdown",
   "id": "0eef4921-953a-405a-bad2-3fff6f81b61f",
   "metadata": {},
   "source": [
    "---\n",
    "# 2. Review & Practices\n",
    "\n",
    "In most examples you can find, understanding the recursive loop is the most difficult part, rather than creating the table. Let's have some review and also pratices on other common textbook problems."
   ]
  },
  {
   "cell_type": "markdown",
   "id": "03dff57a-d35f-4963-b3da-ffa907bd8f4b",
   "metadata": {},
   "source": [
    "## 2.1. The 0-1 Knapsack problem\n",
    "\n",
    "The version demonstrated in the lecture is formally called a 0-1 Knapsack problem, i.e. the number of each item $x_i$ can only be 0 or 1. The problem states as follow: Given a bag of capacity $C$ and set of $N$ items with value $\\{v_0, v_1,..., v_{N-1}\\}$ and weights $\\{w_0, w_1,..., v_{N-1}\\}$, find the max value (denote as $M$) of items that can fit in the bag with the total weight smaller than the bag's capacity. \n",
    "\n",
    "$$\n",
    "M \\ = \\max_{x_0,x_1,...,x_{N-1}} \\ \\sum_i x_i v_i \\qquad \\text{subject to } \\begin{cases}\\sum_i x_i w_i \\leq C \\\\ \\quad  x_i = 0\\text{ or }1\\end{cases}\n",
    "$$\n",
    "\n",
    "We can see that for the case of $N$ items, there are $2^N$ possible combinations of $\\{x_0, x_1,..., x_{N-1}\\}$ (although some of them are infeasible solutions that give a total weight $> C$). To construct a recursion, we can think of how these $2^N$ combinations are related the $2^{N-1}$ combinations from the $N-1$ items case, and then $2^{N-2}$ combinations from the $N-2$ items case,... and so on, to the case containing 1 item only. We observe the following rules:\n",
    "\n",
    "- **Stopping condition** - If capacity $C=0$, max value must be $0$. i.e. \n",
    "    $$ M(0, \\{x_0, x_1,... x_{N-1}\\}) = 0$$\n",
    "\n",
    "- **Induction step** - Each time an item is added, the capacity is reduced. \n",
    "    - If the remaining capacity is smaller than the current item's weight, max value cannot increase further more. i.e. \n",
    "        $$ M(C, \\{x_0, x_1,... x_{N-1}\\}) = M(C, \\{x_0, x_1,... x_{N-2}\\}) \\quad \\text{if }C<w_N$$\n",
    "\n",
    "    - If the remaining capacity is larger than the item's weight, we can check whether we can get a new max value from \n",
    "        - a case with the current item added - for this to be valid, this relation must hold:\n",
    "            $$M(C, \\{x_0, x_1,... x_{N-1}\\}) - v_{N-1} = M(C-w_{N-1}, \\{x_0, x_1,... x_{N-2}\\}) \\text{ with }C-w_{N-1} \\geq 0$$\n",
    "            i.e. We should be able to find some valid combinations from the previous $N-1$ items that make up a weight less than $C-w_N$. Or else it leads to contradiction.<br><br>\n",
    "        \n",
    "        - a case which the current item is not added, but there are some combinations from the previous $N-1$ items that already give a high value (and they already filled the capacity so that $x_N$ cannot be added to that combination to give an even higher value).  \n",
    "            $$M(C, \\{x_0, x_1,... x_{N-1}\\}) = M(C, \\{x_0, x_1,... x_{N-2}\\})$$\n",
    "        \n",
    "These rules lead to the standard algorithm of 0-1 knapsack problem:"
   ]
  },
  {
   "cell_type": "code",
   "execution_count": null,
   "id": "bae2b9ac-585f-4044-b571-e1b01fdb0aa1",
   "metadata": {},
   "outputs": [],
   "source": [
    "# let total item be N\n",
    "# let value_list = [v0, v2, v3,..., v_N-1] = value of items be a global list\n",
    "# let weight_list = [w0, w2, w3,..., w_N-1] = weight of items be a global list\n",
    "\n",
    "def knapsack(capacity, N=len(value_list)):\n",
    "\n",
    "    if capacity<=0:\n",
    "        return 0\n",
    "\n",
    "    if capacity < weight_list[N-1]:\n",
    "        return knapsack(capacity, N-1)\n",
    "\n",
    "    return max(knapsack(capacity-weight_list[N-1], N-1) + value_list[N-1],\n",
    "               knapsack(capacity, N-1))\n",
    "    \n",
    "\n",
    "# DIY to make it dynamic programming!"
   ]
  },
  {
   "cell_type": "markdown",
   "id": "76bef233-c394-4650-8ed2-107bc5ca6610",
   "metadata": {},
   "source": [
    "## 2.2. Rod cutting\n",
    "\n",
    "The rod cutting problem is described as follow - Given a rod of length $L$ and a table of prices $p_l$ for rods of length $l$ ($L$ and $l$ being integers), determine the maximum profit $P$ obtainable by cutting up the rod and selling the pieces. \n",
    "\n",
    "We can see some similarity to the knapsack problem in how a solution can look like - in a rod of length $L$, there are $L-1$ positions $\\{x_1,x_2,...,x_{L-1}\\}$ where we can decide whether to make a cut ($=0$ or $1$) - which gives us $2^{L-1}$ possible combinations. The main differences are the rules of how solutions are related to each other:\n",
    "\n",
    "- **Stopping condition** - If length of rod $L=1$, max value must be $p_1$. i.e. \n",
    "    $$P(1, \\{\\text{no cut}\\}) = p_1$$\n",
    "\n",
    "- **Induction step** - When the rod has a remaining length of $L$, we can decide whether to make a cut at *EACH* of the $L-1$ position to see if the profit can increase. If we decide to make a cut at position $x_l$ (and no further cut on this length $l$ piece), this relation must hold:\n",
    "    $$P(L, \\{x_1, x_2,... x_{L-1}\\}) - p_l = P(L-l, \\{x_1, x_2,... x_{L-1-l}\\})$$\n",
    "\n",
    "These rules lead to the standard algorithm of rod cutting problem:\n"
   ]
  },
  {
   "cell_type": "code",
   "execution_count": null,
   "id": "e106d278-e7e5-4872-8289-41cb6e81eec6",
   "metadata": {},
   "outputs": [],
   "source": [
    "# let price_table be a global variable = [0, p1, p2, ...p_L]\n",
    "# so that price_table[i] = price of a piece of length i\n",
    "\n",
    "def cut_rod(L):\n",
    "    \n",
    "    if L<=0:\n",
    "        return 0\n",
    "    \n",
    "    profit = 0            \n",
    "    for i in range(1, L+1):             # compare with cases where one of the position is cut\n",
    "                                        \n",
    "        profit = max(profit, cut_rod(L-i) + price_table[i])     # Note that the case i=L means nowhere is cut, \n",
    "                                                                # and will return cut_rod(0) + price_table[L] = 0 + p_L\n",
    "        \n",
    "    return profit\n",
    "\n",
    "# DIY to make it dynamic programming!"
   ]
  },
  {
   "cell_type": "markdown",
   "id": "ecf9f084-4790-4fbe-9b06-f6ceb83492a0",
   "metadata": {},
   "source": [
    "## 2.3. Exercise: Matrix chain multiplication\n",
    "\n",
    "When a matrix of dimension $m\\times p$ is multiplied to another matrix of dimension $p\\times n$, a total of $m\\times p\\times n$ multiplication is required. When we have a chain of matrix multiplying, we want to find an order that gives the minimum no. of multiplication that we need to perform. For example, given 3 matrices of dimension $\\dim(A_1) = 10\\times 100, \\dim(A_2) = 100\\times 5$ and $\\dim(A_3) = 5\\times 50$,\n",
    "\n",
    "- Multiplying $A_1\\times A_2$ first, then with $A_3$, i.e. $(A_1A_2)A_3$\n",
    "    - $(A_1A_2)$ needs $10\\times 100\\times 5 = 5000$ multiplications. Dimension of resultant matrix = $10\\times 5$.\n",
    "    - $(...)A_3$ needs $10\\times 5\\times 50=2500$ multiplications.\n",
    "    - Total $=5000+2500=7500$ multiplications.\n",
    "\n",
    "\n",
    "- Multiplying $A_2\\times A_3$ first, then with $A_1$, i.e. $A_1(A_2A_3)$\n",
    "    - $(A_2A_3)$ needs $100\\times 5\\times 50 = 25000$ multiplications. Dimension of resultant matrix = $100\\times 50$.\n",
    "    - $A_1(...)$ needs $10\\times 100\\times 50=50000$ multiplications.\n",
    "    - Total $=25000+50000=75000$ multiplications.\n",
    "    \n",
    "So different multiplication order makes a huge difference.\n",
    " \n",
    "**Idea:** Given a chain of matrices $A_1A_2...A_N$, we can start by spliting the chain into two, e.g. chain 1 being $A_1A_2...A_k$ and chain 2 being $A_{k+1}...A_N$, such that all multiplication on both chains are finished before the products of the two chains multiplying together. And then we choose the $k$ that costs the minimal no. of multiplication. \n",
    "\n",
    "Let the dimension of the $k$th matrix be $\\dim(A_k) = m_k\\times n_k$ (and we require $n_k =m_{k+1}$ for valid multiplication). Also let $P(A_1A_2...A_N)$ be the total of no. of required multiplication of the whole chain. Try to write out the recursive definition and then the program. "
   ]
  },
  {
   "cell_type": "code",
   "execution_count": null,
   "id": "3d01c558-9ef5-4ff3-ad50-165844ca177a",
   "metadata": {},
   "outputs": [],
   "source": [
    "# let dim be a list recording the matrices' dimension such that\n",
    "# dim[0] = m1\n",
    "# dim[1] = n1 = m2\n",
    "# ...\n",
    "# dim[N-1] = n_N-1 = m_N\n",
    "# dim[N] = n_N\n",
    "\n",
    "\n",
    "def matmulnum(dim):\n",
    "    # try it yourself!"
   ]
  }
 ],
 "metadata": {
  "kernelspec": {
   "display_name": "Python 3 (ipykernel)",
   "language": "python",
   "name": "python3"
  },
  "language_info": {
   "codemirror_mode": {
    "name": "ipython",
    "version": 3
   },
   "file_extension": ".py",
   "mimetype": "text/x-python",
   "name": "python",
   "nbconvert_exporter": "python",
   "pygments_lexer": "ipython3",
   "version": "3.8.8"
  }
 },
 "nbformat": 4,
 "nbformat_minor": 5
}
