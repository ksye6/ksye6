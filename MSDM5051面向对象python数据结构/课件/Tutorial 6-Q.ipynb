{
 "cells": [
  {
   "cell_type": "markdown",
   "id": "da01b6d6-5dd6-4222-9e0b-8a135b990887",
   "metadata": {},
   "source": [
    "# MSDM5051 Tutorial 6 - More Practice on Graph Algorithm\n",
    "\n",
    "---"
   ]
  },
  {
   "cell_type": "markdown",
   "id": "06de587c-0e1f-4d12-833a-ac1e04680d9b",
   "metadata": {
    "tags": []
   },
   "source": [
    "## 1. DFS using stack\n",
    "\n",
    "In last tutorial, I have demonstrated how to write DFS using recursion. In fact, as pairing with BFS using a queue, DFS can be realized using a stack. Try to rewrite DFS using stack instead of recursion. You may begin with the code of BFS. Assume all nodes in the graph are connected.\n",
    "\n",
    "**For your revision**: \n",
    "\n",
    "The recursive definition of DFS is:\n",
    "\n",
    "- **Stopping condition**: Reaches a vertex that has no un-visited adjecent vertex.\n",
    "- **Inductive step**: Mark the current vertex as \"visited\", then propagate to each of (i.e. `for` loop) the un-visited vertex and repeat."
   ]
  },
  {
   "cell_type": "code",
   "execution_count": null,
   "id": "57717978-10e3-46db-98c9-3783cbe93462",
   "metadata": {},
   "outputs": [],
   "source": [
    "# The defintion of Node and Graph are given to you. They are the same as in last tutorial.\n",
    "class Node:\n",
    "    def __init__(self, adj=[]):\n",
    "        self.adj = adj         # an array for storing its adjacent nodes in object form\n",
    "        \n",
    "class Graph:\n",
    "    def __init__(self, list_of_nodes = []):    # create a graph by inputting a list of node objects\n",
    "        self.graph = list_of_nodes             # the actual graph is stored as the list of nodes objects        \n",
    "    \n",
    "    \n",
    "    ###########################################################################\n",
    "    # The definition of BFS is already copied for you\n",
    "    def breadth_first_search(self, start_node):\n",
    "    \n",
    "        in_queue = set()        # changed to using an empty set \n",
    "                                # keys: the node object itself. The key exist if the node is already in queue\n",
    "\n",
    "        queue = [start_node]              # initialize the queue with the start_node\n",
    "        in_queue.add(start_node)\n",
    "\n",
    "        BFS_order = []        # an array just for recording the order of BFS\n",
    "\n",
    "\n",
    "        for node in queue:      # visit the nodes following the order in queue. The queue is updated dynamically\n",
    "\n",
    "            BFS_order.append(node)    # add it to the final output\n",
    "\n",
    "            for adj_node in node.adj:    # then check all its adjacent node\n",
    "\n",
    "                if adj_node not in in_queue:    # the adjacent node is added to the queue only if it is not in the queue\n",
    "                    queue.append(adj_node)\n",
    "                    in_queue.add(adj_node)\n",
    "\n",
    "        return BFS_order\n",
    "        \n",
    "        \n",
    "    ###########################################################################\n",
    "    # try it yourself\n",
    "    def depth_first_search(self, start_node):\n",
    "        "
   ]
  },
  {
   "cell_type": "markdown",
   "id": "a7d7335c-1993-49a3-93b2-16d40f3b0f11",
   "metadata": {
    "tags": []
   },
   "source": [
    "---\n",
    "## 2. Bipartite graph\n",
    "\n",
    "An undirected graph is called *k-colourable* if all its vertices can be coloured using $k$ different colours such that no two adjacent vertices have the same colour. In particular when $k=2$, such graph are called bipartite graph. Try to write an algorithm to identify whether a graph is bipartite.\n"
   ]
  },
  {
   "cell_type": "code",
   "execution_count": null,
   "id": "156ed05c-3019-4a5e-950d-991617df3c8d",
   "metadata": {},
   "outputs": [],
   "source": [
    "# The defintion of Node and Graph are given to you. They are the same as in last tutorial.\n",
    "class Node:\n",
    "    def __init__(self, adj=[]):\n",
    "        self.adj = adj         # an array for storing its adjacent nodes in object form\n",
    "        \n",
    "class Graph:\n",
    "    def __init__(self, list_of_nodes = []):    # create a graph by inputting a list of node objects\n",
    "        self.graph = list_of_nodes             # the actual graph is stored as the list of nodes objects    \n",
    "    \n",
    "    ###########################################################################\n",
    "    # try it yourself\n",
    "    def is_bipartite():\n",
    "        "
   ]
  }
 ],
 "metadata": {
  "kernelspec": {
   "display_name": "Python 3 (ipykernel)",
   "language": "python",
   "name": "python3"
  },
  "language_info": {
   "codemirror_mode": {
    "name": "ipython",
    "version": 3
   },
   "file_extension": ".py",
   "mimetype": "text/x-python",
   "name": "python",
   "nbconvert_exporter": "python",
   "pygments_lexer": "ipython3",
   "version": "3.8.8"
  }
 },
 "nbformat": 4,
 "nbformat_minor": 5
}
